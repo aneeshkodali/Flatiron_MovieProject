{
 "cells": [
  {
   "cell_type": "markdown",
   "metadata": {},
   "source": [
    "# Import Libraries"
   ]
  },
  {
   "cell_type": "code",
   "execution_count": 1,
   "metadata": {
    "ExecuteTime": {
     "end_time": "2020-02-09T16:32:01.538362Z",
     "start_time": "2020-02-09T16:31:53.584882Z"
    }
   },
   "outputs": [],
   "source": [
    "import pandas as pd\n",
    "# import numpy as np\n",
    "\n",
    "import seaborn as sns\n",
    "import matplotlib.pyplot as plt\n",
    "%matplotlib inline\n",
    "\n",
    "import os\n",
    "\n",
    "import helper\n",
    "%load_ext autoreload\n",
    "%autoreload 2"
   ]
  },
  {
   "cell_type": "markdown",
   "metadata": {},
   "source": [
    "# Obtain Data\n",
    "\n",
    "The data is a series of csv and tsv files. Here is documentation for each group of files:\n",
    "- [Box Office Mojo](https://www.boxofficemojo.com/yearly/chart/?view2=worldwide&yr=2010&p=.htm)\n",
    "- [IMDB](https://www.imdb.com/interfaces/)\n",
    "- [Rotten Tomatoes](https://www.kaggle.com/rpnuser8182/rotten-tomatoes)\n",
    "- [TheMovieDB](https://developers.themoviedb.org/3/discover/movie-discover)\n",
    "- [The Numbers](https://www.the-numbers.com/movie/budgets/all)"
   ]
  },
  {
   "cell_type": "markdown",
   "metadata": {},
   "source": [
    "Rather than write multiple `pd.read_csv()` lines to read in each file, I'll do the following:\n",
    "1. Get list of files\n",
    "2. Make list of names for dataframes\n",
    "3. Iterate through each list and create dataframes using `exec()`  "
   ]
  },
  {
   "cell_type": "code",
   "execution_count": 2,
   "metadata": {
    "ExecuteTime": {
     "end_time": "2020-02-09T16:32:09.929802Z",
     "start_time": "2020-02-09T16:32:01.816831Z"
    }
   },
   "outputs": [
    {
     "name": "stderr",
     "output_type": "stream",
     "text": [
      "C:\\Users\\anees\\AppData\\Local\\Continuum\\anaconda3\\lib\\site-packages\\ipykernel_launcher.py:1: ParserWarning: Falling back to the 'python' engine because the 'c' engine does not support regex separators (separators > 1 char and different from '\\s+' are interpreted as regex); you can avoid this warning by specifying engine='python'.\n",
      "  \"\"\"Entry point for launching an IPython kernel.\n"
     ]
    }
   ],
   "source": [
    "# Get list of files\n",
    "fileList = os.listdir('data')\n",
    "\n",
    "# Make list of names for dataframes\n",
    "# Take file names: remove extensions, replace periods with underscores\n",
    "dfList = [x.replace('.'+x.split('.')[-1],'').replace('.','_') for x in fileList]\n",
    "\n",
    "# Iterate through lists and create dataframes\n",
    "for df, file in zip(dfList, fileList):\n",
    "    if file.endswith('csv'):\n",
    "        exec(f\"{df} = pd.read_csv('data/{file}')\")\n",
    "    elif file.endswith('tsv'):\n",
    "        exec(f\"{df} = pd.read_csv('data/{file}', sep=r'\\\\t')\")"
   ]
  },
  {
   "cell_type": "markdown",
   "metadata": {},
   "source": [
    "I'll verify that each dataframe has been created with `whos`"
   ]
  },
  {
   "cell_type": "code",
   "execution_count": 3,
   "metadata": {
    "ExecuteTime": {
     "end_time": "2020-02-09T16:32:10.614471Z",
     "start_time": "2020-02-09T16:32:10.369482Z"
    }
   },
   "outputs": [
    {
     "name": "stdout",
     "output_type": "stream",
     "text": [
      "Variable                Type         Data/Info\n",
      "----------------------------------------------\n",
      "bom_movie_gross         DataFrame                             <...>\\n[3387 rows x 5 columns]\n",
      "imdb_name_basics        DataFrame               nconst        <...>[606648 rows x 6 columns]\n",
      "imdb_title_akas         DataFrame             title_id  orderi<...>[331703 rows x 8 columns]\n",
      "imdb_title_basics       DataFrame               tconst        <...>[146144 rows x 6 columns]\n",
      "imdb_title_crew         DataFrame               tconst        <...>[146144 rows x 3 columns]\n",
      "imdb_title_principals   DataFrame                tconst  order<...>1028186 rows x 6 columns]\n",
      "imdb_title_ratings      DataFrame               tconst  averag<...>n[73856 rows x 3 columns]\n",
      "rt_movie_info           DataFrame            id               <...>n[1560 rows x 12 columns]\n",
      "rt_reviews              DataFrame             id              <...>n[54432 rows x 8 columns]\n",
      "tmdb_movies             DataFrame           Unnamed: 0        <...>[26517 rows x 10 columns]\n",
      "tn_movie_budgets        DataFrame          id  release_date   <...>\\n[5782 rows x 6 columns]\n"
     ]
    }
   ],
   "source": [
    "whos DataFrame"
   ]
  },
  {
   "cell_type": "markdown",
   "metadata": {},
   "source": [
    "# Scrub Data"
   ]
  },
  {
   "cell_type": "markdown",
   "metadata": {},
   "source": [
    "## IMDB Title Dataset"
   ]
  },
  {
   "cell_type": "markdown",
   "metadata": {},
   "source": [
    "### Clean and Remove Duplicates\n",
    "\n",
    "This dataset has a lot of duplicate movie rows. In order to identify and filter out these rows, I will\n",
    "- clean the values in the *'primary_title'* and *'original_title'* columns\n",
    "- concatenate title columns and *'start_year'* to remove duplicate rows while preserving any unique information from the duplicate rows (ex. tconst, genres)\n",
    "\n",
    "This step is important for when I merge with other datasets later."
   ]
  },
  {
   "cell_type": "code",
   "execution_count": 4,
   "metadata": {
    "ExecuteTime": {
     "end_time": "2020-02-09T16:32:14.647431Z",
     "start_time": "2020-02-09T16:32:11.302550Z"
    }
   },
   "outputs": [],
   "source": [
    "# Iterate through each title column\n",
    "for column in ['primary_title', 'original_title']: \n",
    "    \n",
    "    # Clean text\n",
    "    patternList = [':', r\"\\(.*\\)\", '\\d+', 'Part']\n",
    "    imdb_title_basics = helper.cleanMovieTitles(imdb_title_basics, column, patternList)\n",
    "\n",
    "# Concatenating with the year\n",
    "imdb_title_basics['original_title_year'] = imdb_title_basics['original_title'] + imdb_title_basics['start_year'].map(lambda x: str(x))\n",
    "imdb_title_basics['primary_title_year'] = imdb_title_basics['primary_title'] + imdb_title_basics['start_year'].map(lambda x: str(x))"
   ]
  },
  {
   "cell_type": "markdown",
   "metadata": {},
   "source": [
    "Let's get all the movie titles that show up more than once."
   ]
  },
  {
   "cell_type": "code",
   "execution_count": 5,
   "metadata": {
    "ExecuteTime": {
     "end_time": "2020-02-09T16:32:15.929551Z",
     "start_time": "2020-02-09T16:32:15.160766Z"
    }
   },
   "outputs": [
    {
     "data": {
      "text/plain": [
       "['The Maestro2016',\n",
       " 'Ghost Tapes2013',\n",
       " 'Haunted2018',\n",
       " 'Queen2018',\n",
       " 'A Family Affair2015']"
      ]
     },
     "execution_count": 5,
     "metadata": {},
     "output_type": "execute_result"
    }
   ],
   "source": [
    "# Find all movie+year values from 'original_title_year' column\n",
    "originalTitleDupeDF = imdb_title_basics[imdb_title_basics['original_title_year'].map(imdb_title_basics['original_title_year'].value_counts()) > 1]\n",
    "originalTitleDupeList = list(originalTitleDupeDF['original_title_year'].unique())\n",
    "\n",
    "# Find all movie+year values from 'primary_title_year' column\n",
    "primaryTitleDupeDF = imdb_title_basics[imdb_title_basics['primary_title_year'].map(imdb_title_basics['primary_title_year'].value_counts()) > 1]\n",
    "primaryTitleDupeList = list(primaryTitleDupeDF['primary_title_year'].unique())\n",
    "\n",
    "# Make list of duplicate movies\n",
    "dupeList = list(set(originalTitleDupeList + primaryTitleDupeList))\n",
    "dupeList[:5]"
   ]
  },
  {
   "cell_type": "code",
   "execution_count": 6,
   "metadata": {
    "ExecuteTime": {
     "end_time": "2020-02-09T16:35:55.004606Z",
     "start_time": "2020-02-09T16:32:16.527233Z"
    }
   },
   "outputs": [
    {
     "name": "stdout",
     "output_type": "stream",
     "text": [
      "3178 out of 3178\r"
     ]
    }
   ],
   "source": [
    "# Initialize dataframe\n",
    "dupeMoviesClean = pd.DataFrame()\n",
    "\n",
    "# List of columns to iterate through\n",
    "dupeColumnList = ['original_title_year', 'primary_title_year']\n",
    "\n",
    "# Iterate through each value\n",
    "for d, dupe in enumerate(dupeList):\n",
    "    \n",
    "    # Output to show where I am in loop\n",
    "    print(f\"{d+1} out of {len(dupeList)}\", end='\\r')\n",
    "    \n",
    "    # Find duplicate movies for given movie value\n",
    "    duplicateDF = helper.findDuplicateMovies(imdb_title_basics, dupeColumnList, dupe)\n",
    "    # Drop duplicate movie titles (but preserve data)\n",
    "    duplicateDF = helper.dropDuplicateMovieRows(duplicateDF, list(duplicateDF.columns))\n",
    "    \n",
    "    # Concatenate\n",
    "    dupeMoviesClean = pd.concat([dupeMoviesClean, duplicateDF])\n",
    "\n",
    "# Convert number columns to number\n",
    "dupeMoviesClean['start_year'] = dupeMoviesClean['start_year'].astype(int)\n",
    "dupeMoviesClean['runtime_minutes'] = dupeMoviesClean['runtime_minutes'].astype(float)"
   ]
  },
  {
   "cell_type": "markdown",
   "metadata": {},
   "source": [
    "Verify that this worked"
   ]
  },
  {
   "cell_type": "code",
   "execution_count": 7,
   "metadata": {
    "ExecuteTime": {
     "end_time": "2020-02-09T16:35:55.943384Z",
     "start_time": "2020-02-09T16:35:55.793759Z"
    }
   },
   "outputs": [
    {
     "data": {
      "text/html": [
       "<div>\n",
       "<style scoped>\n",
       "    .dataframe tbody tr th:only-of-type {\n",
       "        vertical-align: middle;\n",
       "    }\n",
       "\n",
       "    .dataframe tbody tr th {\n",
       "        vertical-align: top;\n",
       "    }\n",
       "\n",
       "    .dataframe thead th {\n",
       "        text-align: right;\n",
       "    }\n",
       "</style>\n",
       "<table border=\"1\" class=\"dataframe\">\n",
       "  <thead>\n",
       "    <tr style=\"text-align: right;\">\n",
       "      <th></th>\n",
       "      <th>tconst</th>\n",
       "      <th>primary_title</th>\n",
       "      <th>original_title</th>\n",
       "      <th>start_year</th>\n",
       "      <th>runtime_minutes</th>\n",
       "      <th>genres</th>\n",
       "      <th>original_title_year</th>\n",
       "      <th>primary_title_year</th>\n",
       "    </tr>\n",
       "  </thead>\n",
       "  <tbody>\n",
       "    <tr>\n",
       "      <th>92545</th>\n",
       "      <td>tt5349722</td>\n",
       "      <td>The Maestro</td>\n",
       "      <td>The Maestro</td>\n",
       "      <td>2016</td>\n",
       "      <td>86.0</td>\n",
       "      <td>Comedy,Drama</td>\n",
       "      <td>The Maestro2016</td>\n",
       "      <td>The Maestro2016</td>\n",
       "    </tr>\n",
       "    <tr>\n",
       "      <th>110656</th>\n",
       "      <td>tt6452032</td>\n",
       "      <td>The Maestro</td>\n",
       "      <td>The Maestro</td>\n",
       "      <td>2016</td>\n",
       "      <td>NaN</td>\n",
       "      <td>NaN</td>\n",
       "      <td>The Maestro2016</td>\n",
       "      <td>The Maestro2016</td>\n",
       "    </tr>\n",
       "  </tbody>\n",
       "</table>\n",
       "</div>"
      ],
      "text/plain": [
       "           tconst primary_title original_title  start_year  runtime_minutes  \\\n",
       "92545   tt5349722   The Maestro    The Maestro        2016             86.0   \n",
       "110656  tt6452032   The Maestro    The Maestro        2016              NaN   \n",
       "\n",
       "              genres original_title_year primary_title_year  \n",
       "92545   Comedy,Drama     The Maestro2016    The Maestro2016  \n",
       "110656           NaN     The Maestro2016    The Maestro2016  "
      ]
     },
     "execution_count": 7,
     "metadata": {},
     "output_type": "execute_result"
    }
   ],
   "source": [
    "dupeMovieExample = dupeList[0]\n",
    "imdb_title_basics.loc[(imdb_title_basics['original_title_year']==dupeMovieExample)|(imdb_title_basics['primary_title_year']==dupeMovieExample)]"
   ]
  },
  {
   "cell_type": "code",
   "execution_count": 8,
   "metadata": {
    "ExecuteTime": {
     "end_time": "2020-02-09T16:35:56.758622Z",
     "start_time": "2020-02-09T16:35:56.627687Z"
    }
   },
   "outputs": [
    {
     "data": {
      "text/html": [
       "<div>\n",
       "<style scoped>\n",
       "    .dataframe tbody tr th:only-of-type {\n",
       "        vertical-align: middle;\n",
       "    }\n",
       "\n",
       "    .dataframe tbody tr th {\n",
       "        vertical-align: top;\n",
       "    }\n",
       "\n",
       "    .dataframe thead th {\n",
       "        text-align: right;\n",
       "    }\n",
       "</style>\n",
       "<table border=\"1\" class=\"dataframe\">\n",
       "  <thead>\n",
       "    <tr style=\"text-align: right;\">\n",
       "      <th></th>\n",
       "      <th>tconst</th>\n",
       "      <th>primary_title</th>\n",
       "      <th>original_title</th>\n",
       "      <th>start_year</th>\n",
       "      <th>runtime_minutes</th>\n",
       "      <th>genres</th>\n",
       "      <th>original_title_year</th>\n",
       "      <th>primary_title_year</th>\n",
       "      <th>tconstOthers</th>\n",
       "      <th>primary_titleOthers</th>\n",
       "      <th>original_titleOthers</th>\n",
       "      <th>start_yearOthers</th>\n",
       "      <th>runtime_minutesOthers</th>\n",
       "      <th>genresOthers</th>\n",
       "      <th>original_title_yearOthers</th>\n",
       "      <th>primary_title_yearOthers</th>\n",
       "    </tr>\n",
       "  </thead>\n",
       "  <tbody>\n",
       "    <tr>\n",
       "      <th>92545</th>\n",
       "      <td>tt5349722</td>\n",
       "      <td>The Maestro</td>\n",
       "      <td>The Maestro</td>\n",
       "      <td>2016</td>\n",
       "      <td>86.0</td>\n",
       "      <td>Comedy,Drama</td>\n",
       "      <td>The Maestro2016</td>\n",
       "      <td>The Maestro2016</td>\n",
       "      <td>[tt6452032, tt5349722]</td>\n",
       "      <td>[The Maestro]</td>\n",
       "      <td>[The Maestro]</td>\n",
       "      <td>[2016]</td>\n",
       "      <td>[86.0]</td>\n",
       "      <td>[Drama, Comedy]</td>\n",
       "      <td>[The Maestro2016]</td>\n",
       "      <td>[The Maestro2016]</td>\n",
       "    </tr>\n",
       "  </tbody>\n",
       "</table>\n",
       "</div>"
      ],
      "text/plain": [
       "          tconst primary_title original_title  start_year  runtime_minutes  \\\n",
       "92545  tt5349722   The Maestro    The Maestro        2016             86.0   \n",
       "\n",
       "             genres original_title_year primary_title_year  \\\n",
       "92545  Comedy,Drama     The Maestro2016    The Maestro2016   \n",
       "\n",
       "                 tconstOthers primary_titleOthers original_titleOthers  \\\n",
       "92545  [tt6452032, tt5349722]       [The Maestro]        [The Maestro]   \n",
       "\n",
       "      start_yearOthers runtime_minutesOthers     genresOthers  \\\n",
       "92545           [2016]                [86.0]  [Drama, Comedy]   \n",
       "\n",
       "      original_title_yearOthers primary_title_yearOthers  \n",
       "92545         [The Maestro2016]        [The Maestro2016]  "
      ]
     },
     "execution_count": 8,
     "metadata": {},
     "output_type": "execute_result"
    }
   ],
   "source": [
    "dupeMoviesClean.loc[(dupeMoviesClean['original_title_year']==dupeMovieExample)|(dupeMoviesClean['primary_title_year']==dupeMovieExample)]"
   ]
  },
  {
   "cell_type": "markdown",
   "metadata": {},
   "source": [
    "The new dataframe combined all rows from the original dataframe and kept any unique values (like runtime and genres) in a separate column"
   ]
  },
  {
   "cell_type": "markdown",
   "metadata": {},
   "source": [
    "Now we have a dataframe of 'once duplicated' movies. We can create a dataframe of movies that only show up once and concatenate these two dataframes"
   ]
  },
  {
   "cell_type": "code",
   "execution_count": 9,
   "metadata": {
    "ExecuteTime": {
     "end_time": "2020-02-09T16:35:59.844868Z",
     "start_time": "2020-02-09T16:35:57.342403Z"
    }
   },
   "outputs": [
    {
     "data": {
      "text/html": [
       "<div>\n",
       "<style scoped>\n",
       "    .dataframe tbody tr th:only-of-type {\n",
       "        vertical-align: middle;\n",
       "    }\n",
       "\n",
       "    .dataframe tbody tr th {\n",
       "        vertical-align: top;\n",
       "    }\n",
       "\n",
       "    .dataframe thead th {\n",
       "        text-align: right;\n",
       "    }\n",
       "</style>\n",
       "<table border=\"1\" class=\"dataframe\">\n",
       "  <thead>\n",
       "    <tr style=\"text-align: right;\">\n",
       "      <th></th>\n",
       "      <th>tconst</th>\n",
       "      <th>primary_title</th>\n",
       "      <th>original_title</th>\n",
       "      <th>start_year</th>\n",
       "      <th>runtime_minutes</th>\n",
       "      <th>genres</th>\n",
       "      <th>original_title_year</th>\n",
       "      <th>primary_title_year</th>\n",
       "      <th>tconstOthers</th>\n",
       "      <th>primary_titleOthers</th>\n",
       "      <th>original_titleOthers</th>\n",
       "      <th>start_yearOthers</th>\n",
       "      <th>runtime_minutesOthers</th>\n",
       "      <th>genresOthers</th>\n",
       "      <th>original_title_yearOthers</th>\n",
       "      <th>primary_title_yearOthers</th>\n",
       "    </tr>\n",
       "  </thead>\n",
       "  <tbody>\n",
       "    <tr>\n",
       "      <th>0</th>\n",
       "      <td>tt0063540</td>\n",
       "      <td>Sunghursh</td>\n",
       "      <td>Sunghursh</td>\n",
       "      <td>2013</td>\n",
       "      <td>175.0</td>\n",
       "      <td>Action,Crime,Drama</td>\n",
       "      <td>Sunghursh2013</td>\n",
       "      <td>Sunghursh2013</td>\n",
       "      <td>[tt0063540]</td>\n",
       "      <td>[Sunghursh]</td>\n",
       "      <td>[Sunghursh]</td>\n",
       "      <td>[2013]</td>\n",
       "      <td>[175.0]</td>\n",
       "      <td>[Action, Crime, Drama]</td>\n",
       "      <td>[Sunghursh2013]</td>\n",
       "      <td>[Sunghursh2013]</td>\n",
       "    </tr>\n",
       "    <tr>\n",
       "      <th>1</th>\n",
       "      <td>tt0066787</td>\n",
       "      <td>One Day Before the Rainy Season</td>\n",
       "      <td>Ashad Ka Ek Din</td>\n",
       "      <td>2019</td>\n",
       "      <td>114.0</td>\n",
       "      <td>Biography,Drama</td>\n",
       "      <td>Ashad Ka Ek Din2019</td>\n",
       "      <td>One Day Before the Rainy Season2019</td>\n",
       "      <td>[tt0066787]</td>\n",
       "      <td>[One Day Before the Rainy Season]</td>\n",
       "      <td>[Ashad Ka Ek Din]</td>\n",
       "      <td>[2019]</td>\n",
       "      <td>[114.0]</td>\n",
       "      <td>[Biography, Drama]</td>\n",
       "      <td>[Ashad Ka Ek Din2019]</td>\n",
       "      <td>[One Day Before the Rainy Season2019]</td>\n",
       "    </tr>\n",
       "    <tr>\n",
       "      <th>2</th>\n",
       "      <td>tt0069049</td>\n",
       "      <td>The Other Side of the Wind</td>\n",
       "      <td>The Other Side of the Wind</td>\n",
       "      <td>2018</td>\n",
       "      <td>122.0</td>\n",
       "      <td>Drama</td>\n",
       "      <td>The Other Side of the Wind2018</td>\n",
       "      <td>The Other Side of the Wind2018</td>\n",
       "      <td>[tt0069049]</td>\n",
       "      <td>[The Other Side of the Wind]</td>\n",
       "      <td>[The Other Side of the Wind]</td>\n",
       "      <td>[2018]</td>\n",
       "      <td>[122.0]</td>\n",
       "      <td>[Drama]</td>\n",
       "      <td>[The Other Side of the Wind2018]</td>\n",
       "      <td>[The Other Side of the Wind2018]</td>\n",
       "    </tr>\n",
       "    <tr>\n",
       "      <th>3</th>\n",
       "      <td>tt0069204</td>\n",
       "      <td>Sabse Bada Sukh</td>\n",
       "      <td>Sabse Bada Sukh</td>\n",
       "      <td>2018</td>\n",
       "      <td>NaN</td>\n",
       "      <td>Comedy,Drama</td>\n",
       "      <td>Sabse Bada Sukh2018</td>\n",
       "      <td>Sabse Bada Sukh2018</td>\n",
       "      <td>[tt0069204]</td>\n",
       "      <td>[Sabse Bada Sukh]</td>\n",
       "      <td>[Sabse Bada Sukh]</td>\n",
       "      <td>[2018]</td>\n",
       "      <td>[]</td>\n",
       "      <td>[Comedy, Drama]</td>\n",
       "      <td>[Sabse Bada Sukh2018]</td>\n",
       "      <td>[Sabse Bada Sukh2018]</td>\n",
       "    </tr>\n",
       "    <tr>\n",
       "      <th>4</th>\n",
       "      <td>tt0100275</td>\n",
       "      <td>The Wandering Soap Opera</td>\n",
       "      <td>La Telenovela Errante</td>\n",
       "      <td>2017</td>\n",
       "      <td>80.0</td>\n",
       "      <td>Comedy,Drama,Fantasy</td>\n",
       "      <td>La Telenovela Errante2017</td>\n",
       "      <td>The Wandering Soap Opera2017</td>\n",
       "      <td>[tt0100275]</td>\n",
       "      <td>[The Wandering Soap Opera]</td>\n",
       "      <td>[La Telenovela Errante]</td>\n",
       "      <td>[2017]</td>\n",
       "      <td>[80.0]</td>\n",
       "      <td>[Comedy, Drama, Fantasy]</td>\n",
       "      <td>[La Telenovela Errante2017]</td>\n",
       "      <td>[The Wandering Soap Opera2017]</td>\n",
       "    </tr>\n",
       "  </tbody>\n",
       "</table>\n",
       "</div>"
      ],
      "text/plain": [
       "      tconst                    primary_title              original_title  \\\n",
       "0  tt0063540                        Sunghursh                   Sunghursh   \n",
       "1  tt0066787  One Day Before the Rainy Season             Ashad Ka Ek Din   \n",
       "2  tt0069049       The Other Side of the Wind  The Other Side of the Wind   \n",
       "3  tt0069204                  Sabse Bada Sukh             Sabse Bada Sukh   \n",
       "4  tt0100275         The Wandering Soap Opera       La Telenovela Errante   \n",
       "\n",
       "   start_year  runtime_minutes                genres  \\\n",
       "0        2013            175.0    Action,Crime,Drama   \n",
       "1        2019            114.0       Biography,Drama   \n",
       "2        2018            122.0                 Drama   \n",
       "3        2018              NaN          Comedy,Drama   \n",
       "4        2017             80.0  Comedy,Drama,Fantasy   \n",
       "\n",
       "              original_title_year                   primary_title_year  \\\n",
       "0                   Sunghursh2013                        Sunghursh2013   \n",
       "1             Ashad Ka Ek Din2019  One Day Before the Rainy Season2019   \n",
       "2  The Other Side of the Wind2018       The Other Side of the Wind2018   \n",
       "3             Sabse Bada Sukh2018                  Sabse Bada Sukh2018   \n",
       "4       La Telenovela Errante2017         The Wandering Soap Opera2017   \n",
       "\n",
       "  tconstOthers                primary_titleOthers  \\\n",
       "0  [tt0063540]                        [Sunghursh]   \n",
       "1  [tt0066787]  [One Day Before the Rainy Season]   \n",
       "2  [tt0069049]       [The Other Side of the Wind]   \n",
       "3  [tt0069204]                  [Sabse Bada Sukh]   \n",
       "4  [tt0100275]         [The Wandering Soap Opera]   \n",
       "\n",
       "           original_titleOthers start_yearOthers runtime_minutesOthers  \\\n",
       "0                   [Sunghursh]           [2013]               [175.0]   \n",
       "1             [Ashad Ka Ek Din]           [2019]               [114.0]   \n",
       "2  [The Other Side of the Wind]           [2018]               [122.0]   \n",
       "3             [Sabse Bada Sukh]           [2018]                    []   \n",
       "4       [La Telenovela Errante]           [2017]                [80.0]   \n",
       "\n",
       "               genresOthers         original_title_yearOthers  \\\n",
       "0    [Action, Crime, Drama]                   [Sunghursh2013]   \n",
       "1        [Biography, Drama]             [Ashad Ka Ek Din2019]   \n",
       "2                   [Drama]  [The Other Side of the Wind2018]   \n",
       "3           [Comedy, Drama]             [Sabse Bada Sukh2018]   \n",
       "4  [Comedy, Drama, Fantasy]       [La Telenovela Errante2017]   \n",
       "\n",
       "                primary_title_yearOthers  \n",
       "0                        [Sunghursh2013]  \n",
       "1  [One Day Before the Rainy Season2019]  \n",
       "2       [The Other Side of the Wind2018]  \n",
       "3                  [Sabse Bada Sukh2018]  \n",
       "4         [The Wandering Soap Opera2017]  "
      ]
     },
     "execution_count": 9,
     "metadata": {},
     "output_type": "execute_result"
    }
   ],
   "source": [
    "uniqueMovies = imdb_title_basics.loc[imdb_title_basics['original_title_year'].isin(dupeList)==False]\n",
    "uniqueMovies = uniqueMovies.loc[uniqueMovies['primary_title_year'].isin(dupeList)==False]\n",
    "\n",
    "# Create 'Others' columns to match the dupeMovieDF\n",
    "for column in uniqueMovies.columns:\n",
    "    if column=='genres':\n",
    "        uniqueMovies['genresOthers'] = uniqueMovies['genres'].apply(lambda x: x.split(',') if str(x)!='nan' else [])\n",
    "    else:\n",
    "        uniqueMovies[column+'Others'] = uniqueMovies[column].apply(lambda x: [str(x)] if str(x)!='nan' else [])\n",
    "uniqueMovies.head()"
   ]
  },
  {
   "cell_type": "code",
   "execution_count": 10,
   "metadata": {
    "ExecuteTime": {
     "end_time": "2020-02-09T16:36:00.858199Z",
     "start_time": "2020-02-09T16:36:00.540738Z"
    }
   },
   "outputs": [
    {
     "data": {
      "text/html": [
       "<div>\n",
       "<style scoped>\n",
       "    .dataframe tbody tr th:only-of-type {\n",
       "        vertical-align: middle;\n",
       "    }\n",
       "\n",
       "    .dataframe tbody tr th {\n",
       "        vertical-align: top;\n",
       "    }\n",
       "\n",
       "    .dataframe thead th {\n",
       "        text-align: right;\n",
       "    }\n",
       "</style>\n",
       "<table border=\"1\" class=\"dataframe\">\n",
       "  <thead>\n",
       "    <tr style=\"text-align: right;\">\n",
       "      <th></th>\n",
       "      <th>tconst</th>\n",
       "      <th>primary_title</th>\n",
       "      <th>original_title</th>\n",
       "      <th>start_year</th>\n",
       "      <th>runtime_minutes</th>\n",
       "      <th>genres</th>\n",
       "      <th>original_title_year</th>\n",
       "      <th>primary_title_year</th>\n",
       "      <th>tconstOthers</th>\n",
       "      <th>primary_titleOthers</th>\n",
       "      <th>original_titleOthers</th>\n",
       "      <th>start_yearOthers</th>\n",
       "      <th>runtime_minutesOthers</th>\n",
       "      <th>genresOthers</th>\n",
       "      <th>original_title_yearOthers</th>\n",
       "      <th>primary_title_yearOthers</th>\n",
       "    </tr>\n",
       "  </thead>\n",
       "  <tbody>\n",
       "    <tr>\n",
       "      <th>0</th>\n",
       "      <td>tt0063540</td>\n",
       "      <td>Sunghursh</td>\n",
       "      <td>Sunghursh</td>\n",
       "      <td>2013</td>\n",
       "      <td>175.0</td>\n",
       "      <td>Action,Crime,Drama</td>\n",
       "      <td>Sunghursh2013</td>\n",
       "      <td>Sunghursh2013</td>\n",
       "      <td>[tt0063540]</td>\n",
       "      <td>[Sunghursh]</td>\n",
       "      <td>[Sunghursh]</td>\n",
       "      <td>[2013]</td>\n",
       "      <td>[175.0]</td>\n",
       "      <td>[Action, Crime, Drama]</td>\n",
       "      <td>[Sunghursh2013]</td>\n",
       "      <td>[Sunghursh2013]</td>\n",
       "    </tr>\n",
       "    <tr>\n",
       "      <th>1</th>\n",
       "      <td>tt0066787</td>\n",
       "      <td>One Day Before the Rainy Season</td>\n",
       "      <td>Ashad Ka Ek Din</td>\n",
       "      <td>2019</td>\n",
       "      <td>114.0</td>\n",
       "      <td>Biography,Drama</td>\n",
       "      <td>Ashad Ka Ek Din2019</td>\n",
       "      <td>One Day Before the Rainy Season2019</td>\n",
       "      <td>[tt0066787]</td>\n",
       "      <td>[One Day Before the Rainy Season]</td>\n",
       "      <td>[Ashad Ka Ek Din]</td>\n",
       "      <td>[2019]</td>\n",
       "      <td>[114.0]</td>\n",
       "      <td>[Biography, Drama]</td>\n",
       "      <td>[Ashad Ka Ek Din2019]</td>\n",
       "      <td>[One Day Before the Rainy Season2019]</td>\n",
       "    </tr>\n",
       "    <tr>\n",
       "      <th>2</th>\n",
       "      <td>tt0069049</td>\n",
       "      <td>The Other Side of the Wind</td>\n",
       "      <td>The Other Side of the Wind</td>\n",
       "      <td>2018</td>\n",
       "      <td>122.0</td>\n",
       "      <td>Drama</td>\n",
       "      <td>The Other Side of the Wind2018</td>\n",
       "      <td>The Other Side of the Wind2018</td>\n",
       "      <td>[tt0069049]</td>\n",
       "      <td>[The Other Side of the Wind]</td>\n",
       "      <td>[The Other Side of the Wind]</td>\n",
       "      <td>[2018]</td>\n",
       "      <td>[122.0]</td>\n",
       "      <td>[Drama]</td>\n",
       "      <td>[The Other Side of the Wind2018]</td>\n",
       "      <td>[The Other Side of the Wind2018]</td>\n",
       "    </tr>\n",
       "    <tr>\n",
       "      <th>3</th>\n",
       "      <td>tt0069204</td>\n",
       "      <td>Sabse Bada Sukh</td>\n",
       "      <td>Sabse Bada Sukh</td>\n",
       "      <td>2018</td>\n",
       "      <td>NaN</td>\n",
       "      <td>Comedy,Drama</td>\n",
       "      <td>Sabse Bada Sukh2018</td>\n",
       "      <td>Sabse Bada Sukh2018</td>\n",
       "      <td>[tt0069204]</td>\n",
       "      <td>[Sabse Bada Sukh]</td>\n",
       "      <td>[Sabse Bada Sukh]</td>\n",
       "      <td>[2018]</td>\n",
       "      <td>[]</td>\n",
       "      <td>[Comedy, Drama]</td>\n",
       "      <td>[Sabse Bada Sukh2018]</td>\n",
       "      <td>[Sabse Bada Sukh2018]</td>\n",
       "    </tr>\n",
       "    <tr>\n",
       "      <th>4</th>\n",
       "      <td>tt0100275</td>\n",
       "      <td>The Wandering Soap Opera</td>\n",
       "      <td>La Telenovela Errante</td>\n",
       "      <td>2017</td>\n",
       "      <td>80.0</td>\n",
       "      <td>Comedy,Drama,Fantasy</td>\n",
       "      <td>La Telenovela Errante2017</td>\n",
       "      <td>The Wandering Soap Opera2017</td>\n",
       "      <td>[tt0100275]</td>\n",
       "      <td>[The Wandering Soap Opera]</td>\n",
       "      <td>[La Telenovela Errante]</td>\n",
       "      <td>[2017]</td>\n",
       "      <td>[80.0]</td>\n",
       "      <td>[Comedy, Drama, Fantasy]</td>\n",
       "      <td>[La Telenovela Errante2017]</td>\n",
       "      <td>[The Wandering Soap Opera2017]</td>\n",
       "    </tr>\n",
       "  </tbody>\n",
       "</table>\n",
       "</div>"
      ],
      "text/plain": [
       "      tconst                    primary_title              original_title  \\\n",
       "0  tt0063540                        Sunghursh                   Sunghursh   \n",
       "1  tt0066787  One Day Before the Rainy Season             Ashad Ka Ek Din   \n",
       "2  tt0069049       The Other Side of the Wind  The Other Side of the Wind   \n",
       "3  tt0069204                  Sabse Bada Sukh             Sabse Bada Sukh   \n",
       "4  tt0100275         The Wandering Soap Opera       La Telenovela Errante   \n",
       "\n",
       "   start_year  runtime_minutes                genres  \\\n",
       "0        2013            175.0    Action,Crime,Drama   \n",
       "1        2019            114.0       Biography,Drama   \n",
       "2        2018            122.0                 Drama   \n",
       "3        2018              NaN          Comedy,Drama   \n",
       "4        2017             80.0  Comedy,Drama,Fantasy   \n",
       "\n",
       "              original_title_year                   primary_title_year  \\\n",
       "0                   Sunghursh2013                        Sunghursh2013   \n",
       "1             Ashad Ka Ek Din2019  One Day Before the Rainy Season2019   \n",
       "2  The Other Side of the Wind2018       The Other Side of the Wind2018   \n",
       "3             Sabse Bada Sukh2018                  Sabse Bada Sukh2018   \n",
       "4       La Telenovela Errante2017         The Wandering Soap Opera2017   \n",
       "\n",
       "  tconstOthers                primary_titleOthers  \\\n",
       "0  [tt0063540]                        [Sunghursh]   \n",
       "1  [tt0066787]  [One Day Before the Rainy Season]   \n",
       "2  [tt0069049]       [The Other Side of the Wind]   \n",
       "3  [tt0069204]                  [Sabse Bada Sukh]   \n",
       "4  [tt0100275]         [The Wandering Soap Opera]   \n",
       "\n",
       "           original_titleOthers start_yearOthers runtime_minutesOthers  \\\n",
       "0                   [Sunghursh]           [2013]               [175.0]   \n",
       "1             [Ashad Ka Ek Din]           [2019]               [114.0]   \n",
       "2  [The Other Side of the Wind]           [2018]               [122.0]   \n",
       "3             [Sabse Bada Sukh]           [2018]                    []   \n",
       "4       [La Telenovela Errante]           [2017]                [80.0]   \n",
       "\n",
       "               genresOthers         original_title_yearOthers  \\\n",
       "0    [Action, Crime, Drama]                   [Sunghursh2013]   \n",
       "1        [Biography, Drama]             [Ashad Ka Ek Din2019]   \n",
       "2                   [Drama]  [The Other Side of the Wind2018]   \n",
       "3           [Comedy, Drama]             [Sabse Bada Sukh2018]   \n",
       "4  [Comedy, Drama, Fantasy]       [La Telenovela Errante2017]   \n",
       "\n",
       "                primary_title_yearOthers  \n",
       "0                        [Sunghursh2013]  \n",
       "1  [One Day Before the Rainy Season2019]  \n",
       "2       [The Other Side of the Wind2018]  \n",
       "3                  [Sabse Bada Sukh2018]  \n",
       "4         [The Wandering Soap Opera2017]  "
      ]
     },
     "execution_count": 10,
     "metadata": {},
     "output_type": "execute_result"
    }
   ],
   "source": [
    "# Combine dataframes\n",
    "imdb_title_basics_clean = pd.concat([uniqueMovies, dupeMoviesClean])\n",
    "imdb_title_basics_clean.head()"
   ]
  },
  {
   "cell_type": "markdown",
   "metadata": {},
   "source": [
    "### Create Genre Columns\n",
    "\n",
    "I'll also create a column for genre count and also create dummy columns for whether or not a movie is classified as a certain genre"
   ]
  },
  {
   "cell_type": "code",
   "execution_count": 11,
   "metadata": {
    "ExecuteTime": {
     "end_time": "2020-02-09T16:36:04.114107Z",
     "start_time": "2020-02-09T16:36:01.442640Z"
    }
   },
   "outputs": [],
   "source": [
    "imdb_title_basics_clean['genreCount'] = imdb_title_basics_clean['genresOthers'].apply(lambda x: len(x))"
   ]
  },
  {
   "cell_type": "code",
   "execution_count": 12,
   "metadata": {
    "ExecuteTime": {
     "end_time": "2020-02-09T16:36:07.634346Z",
     "start_time": "2020-02-09T16:36:04.732586Z"
    }
   },
   "outputs": [],
   "source": [
    "# Create list of unique genres\n",
    "genres = list(set([genre for genreList in imdb_title_basics_clean['genresOthers'] for genre in genreList]))\n",
    "\n",
    "# Iterate through each genre\n",
    "for genre in genres:\n",
    "    # Create dummy column and test if genre is in list of genres for movie\n",
    "    imdb_title_basics_clean[genre] = imdb_title_basics_clean['genresOthers'].apply(lambda x: (genre in x)*1)"
   ]
  },
  {
   "cell_type": "markdown",
   "metadata": {},
   "source": [
    "## Merge Dataframes"
   ]
  },
  {
   "cell_type": "markdown",
   "metadata": {},
   "source": [
    "### IMDB Dataframes"
   ]
  },
  {
   "cell_type": "markdown",
   "metadata": {},
   "source": [
    "Merging the IMDB *principals* and *crew* dataframes."
   ]
  },
  {
   "cell_type": "code",
   "execution_count": 13,
   "metadata": {
    "ExecuteTime": {
     "end_time": "2020-02-09T16:36:09.768875Z",
     "start_time": "2020-02-09T16:36:08.747672Z"
    }
   },
   "outputs": [
    {
     "data": {
      "text/html": [
       "<div>\n",
       "<style scoped>\n",
       "    .dataframe tbody tr th:only-of-type {\n",
       "        vertical-align: middle;\n",
       "    }\n",
       "\n",
       "    .dataframe tbody tr th {\n",
       "        vertical-align: top;\n",
       "    }\n",
       "\n",
       "    .dataframe thead th {\n",
       "        text-align: right;\n",
       "    }\n",
       "</style>\n",
       "<table border=\"1\" class=\"dataframe\">\n",
       "  <thead>\n",
       "    <tr style=\"text-align: right;\">\n",
       "      <th></th>\n",
       "      <th>tconst</th>\n",
       "      <th>ordering</th>\n",
       "      <th>nconst</th>\n",
       "      <th>category</th>\n",
       "      <th>job</th>\n",
       "      <th>characters</th>\n",
       "      <th>directors</th>\n",
       "      <th>writers</th>\n",
       "    </tr>\n",
       "  </thead>\n",
       "  <tbody>\n",
       "    <tr>\n",
       "      <th>0</th>\n",
       "      <td>tt0111414</td>\n",
       "      <td>1</td>\n",
       "      <td>nm0246005</td>\n",
       "      <td>actor</td>\n",
       "      <td>NaN</td>\n",
       "      <td>[\"The Man\"]</td>\n",
       "      <td>nm0398271</td>\n",
       "      <td>nm0398271</td>\n",
       "    </tr>\n",
       "    <tr>\n",
       "      <th>1</th>\n",
       "      <td>tt0111414</td>\n",
       "      <td>2</td>\n",
       "      <td>nm0398271</td>\n",
       "      <td>director</td>\n",
       "      <td>NaN</td>\n",
       "      <td>NaN</td>\n",
       "      <td>nm0398271</td>\n",
       "      <td>nm0398271</td>\n",
       "    </tr>\n",
       "    <tr>\n",
       "      <th>2</th>\n",
       "      <td>tt0111414</td>\n",
       "      <td>3</td>\n",
       "      <td>nm3739909</td>\n",
       "      <td>producer</td>\n",
       "      <td>producer</td>\n",
       "      <td>NaN</td>\n",
       "      <td>nm0398271</td>\n",
       "      <td>nm0398271</td>\n",
       "    </tr>\n",
       "    <tr>\n",
       "      <th>3</th>\n",
       "      <td>tt0323808</td>\n",
       "      <td>10</td>\n",
       "      <td>nm0059247</td>\n",
       "      <td>editor</td>\n",
       "      <td>NaN</td>\n",
       "      <td>NaN</td>\n",
       "      <td>nm0362736</td>\n",
       "      <td>nm0362736</td>\n",
       "    </tr>\n",
       "    <tr>\n",
       "      <th>4</th>\n",
       "      <td>tt0323808</td>\n",
       "      <td>1</td>\n",
       "      <td>nm3579312</td>\n",
       "      <td>actress</td>\n",
       "      <td>NaN</td>\n",
       "      <td>[\"Beth Boothby\"]</td>\n",
       "      <td>nm0362736</td>\n",
       "      <td>nm0362736</td>\n",
       "    </tr>\n",
       "  </tbody>\n",
       "</table>\n",
       "</div>"
      ],
      "text/plain": [
       "      tconst  ordering     nconst  category       job        characters  \\\n",
       "0  tt0111414         1  nm0246005     actor       NaN       [\"The Man\"]   \n",
       "1  tt0111414         2  nm0398271  director       NaN               NaN   \n",
       "2  tt0111414         3  nm3739909  producer  producer               NaN   \n",
       "3  tt0323808        10  nm0059247    editor       NaN               NaN   \n",
       "4  tt0323808         1  nm3579312   actress       NaN  [\"Beth Boothby\"]   \n",
       "\n",
       "   directors    writers  \n",
       "0  nm0398271  nm0398271  \n",
       "1  nm0398271  nm0398271  \n",
       "2  nm0398271  nm0398271  \n",
       "3  nm0362736  nm0362736  \n",
       "4  nm0362736  nm0362736  "
      ]
     },
     "execution_count": 13,
     "metadata": {},
     "output_type": "execute_result"
    }
   ],
   "source": [
    "imdb_crew_principals = pd.merge(imdb_title_principals, imdb_title_crew, on = 'tconst', how = 'inner')\n",
    "imdb_crew_principals.head()"
   ]
  },
  {
   "cell_type": "markdown",
   "metadata": {},
   "source": [
    "Merging the IMDB *title* and *title ratings* dataframes."
   ]
  },
  {
   "cell_type": "code",
   "execution_count": 14,
   "metadata": {
    "ExecuteTime": {
     "end_time": "2020-02-09T16:36:11.130350Z",
     "start_time": "2020-02-09T16:36:10.804731Z"
    }
   },
   "outputs": [
    {
     "data": {
      "text/html": [
       "<div>\n",
       "<style scoped>\n",
       "    .dataframe tbody tr th:only-of-type {\n",
       "        vertical-align: middle;\n",
       "    }\n",
       "\n",
       "    .dataframe tbody tr th {\n",
       "        vertical-align: top;\n",
       "    }\n",
       "\n",
       "    .dataframe thead th {\n",
       "        text-align: right;\n",
       "    }\n",
       "</style>\n",
       "<table border=\"1\" class=\"dataframe\">\n",
       "  <thead>\n",
       "    <tr style=\"text-align: right;\">\n",
       "      <th></th>\n",
       "      <th>tconst</th>\n",
       "      <th>primary_title</th>\n",
       "      <th>original_title</th>\n",
       "      <th>start_year</th>\n",
       "      <th>runtime_minutes</th>\n",
       "      <th>genres</th>\n",
       "      <th>original_title_year</th>\n",
       "      <th>primary_title_year</th>\n",
       "      <th>tconstOthers</th>\n",
       "      <th>primary_titleOthers</th>\n",
       "      <th>...</th>\n",
       "      <th>Comedy</th>\n",
       "      <th>Thriller</th>\n",
       "      <th>Animation</th>\n",
       "      <th>Short</th>\n",
       "      <th>Sport</th>\n",
       "      <th>Horror</th>\n",
       "      <th>Drama</th>\n",
       "      <th>Family</th>\n",
       "      <th>averagerating</th>\n",
       "      <th>numvotes</th>\n",
       "    </tr>\n",
       "  </thead>\n",
       "  <tbody>\n",
       "    <tr>\n",
       "      <th>0</th>\n",
       "      <td>tt0063540</td>\n",
       "      <td>Sunghursh</td>\n",
       "      <td>Sunghursh</td>\n",
       "      <td>2013</td>\n",
       "      <td>175.0</td>\n",
       "      <td>Action,Crime,Drama</td>\n",
       "      <td>Sunghursh2013</td>\n",
       "      <td>Sunghursh2013</td>\n",
       "      <td>[tt0063540]</td>\n",
       "      <td>[Sunghursh]</td>\n",
       "      <td>...</td>\n",
       "      <td>0</td>\n",
       "      <td>0</td>\n",
       "      <td>0</td>\n",
       "      <td>0</td>\n",
       "      <td>0</td>\n",
       "      <td>0</td>\n",
       "      <td>1</td>\n",
       "      <td>0</td>\n",
       "      <td>7.0</td>\n",
       "      <td>77</td>\n",
       "    </tr>\n",
       "    <tr>\n",
       "      <th>1</th>\n",
       "      <td>tt0066787</td>\n",
       "      <td>One Day Before the Rainy Season</td>\n",
       "      <td>Ashad Ka Ek Din</td>\n",
       "      <td>2019</td>\n",
       "      <td>114.0</td>\n",
       "      <td>Biography,Drama</td>\n",
       "      <td>Ashad Ka Ek Din2019</td>\n",
       "      <td>One Day Before the Rainy Season2019</td>\n",
       "      <td>[tt0066787]</td>\n",
       "      <td>[One Day Before the Rainy Season]</td>\n",
       "      <td>...</td>\n",
       "      <td>0</td>\n",
       "      <td>0</td>\n",
       "      <td>0</td>\n",
       "      <td>0</td>\n",
       "      <td>0</td>\n",
       "      <td>0</td>\n",
       "      <td>1</td>\n",
       "      <td>0</td>\n",
       "      <td>7.2</td>\n",
       "      <td>43</td>\n",
       "    </tr>\n",
       "    <tr>\n",
       "      <th>2</th>\n",
       "      <td>tt0069049</td>\n",
       "      <td>The Other Side of the Wind</td>\n",
       "      <td>The Other Side of the Wind</td>\n",
       "      <td>2018</td>\n",
       "      <td>122.0</td>\n",
       "      <td>Drama</td>\n",
       "      <td>The Other Side of the Wind2018</td>\n",
       "      <td>The Other Side of the Wind2018</td>\n",
       "      <td>[tt0069049]</td>\n",
       "      <td>[The Other Side of the Wind]</td>\n",
       "      <td>...</td>\n",
       "      <td>0</td>\n",
       "      <td>0</td>\n",
       "      <td>0</td>\n",
       "      <td>0</td>\n",
       "      <td>0</td>\n",
       "      <td>0</td>\n",
       "      <td>1</td>\n",
       "      <td>0</td>\n",
       "      <td>6.9</td>\n",
       "      <td>4517</td>\n",
       "    </tr>\n",
       "    <tr>\n",
       "      <th>3</th>\n",
       "      <td>tt0069204</td>\n",
       "      <td>Sabse Bada Sukh</td>\n",
       "      <td>Sabse Bada Sukh</td>\n",
       "      <td>2018</td>\n",
       "      <td>NaN</td>\n",
       "      <td>Comedy,Drama</td>\n",
       "      <td>Sabse Bada Sukh2018</td>\n",
       "      <td>Sabse Bada Sukh2018</td>\n",
       "      <td>[tt0069204]</td>\n",
       "      <td>[Sabse Bada Sukh]</td>\n",
       "      <td>...</td>\n",
       "      <td>1</td>\n",
       "      <td>0</td>\n",
       "      <td>0</td>\n",
       "      <td>0</td>\n",
       "      <td>0</td>\n",
       "      <td>0</td>\n",
       "      <td>1</td>\n",
       "      <td>0</td>\n",
       "      <td>6.1</td>\n",
       "      <td>13</td>\n",
       "    </tr>\n",
       "    <tr>\n",
       "      <th>4</th>\n",
       "      <td>tt0100275</td>\n",
       "      <td>The Wandering Soap Opera</td>\n",
       "      <td>La Telenovela Errante</td>\n",
       "      <td>2017</td>\n",
       "      <td>80.0</td>\n",
       "      <td>Comedy,Drama,Fantasy</td>\n",
       "      <td>La Telenovela Errante2017</td>\n",
       "      <td>The Wandering Soap Opera2017</td>\n",
       "      <td>[tt0100275]</td>\n",
       "      <td>[The Wandering Soap Opera]</td>\n",
       "      <td>...</td>\n",
       "      <td>1</td>\n",
       "      <td>0</td>\n",
       "      <td>0</td>\n",
       "      <td>0</td>\n",
       "      <td>0</td>\n",
       "      <td>0</td>\n",
       "      <td>1</td>\n",
       "      <td>0</td>\n",
       "      <td>6.5</td>\n",
       "      <td>119</td>\n",
       "    </tr>\n",
       "  </tbody>\n",
       "</table>\n",
       "<p>5 rows × 46 columns</p>\n",
       "</div>"
      ],
      "text/plain": [
       "      tconst                    primary_title              original_title  \\\n",
       "0  tt0063540                        Sunghursh                   Sunghursh   \n",
       "1  tt0066787  One Day Before the Rainy Season             Ashad Ka Ek Din   \n",
       "2  tt0069049       The Other Side of the Wind  The Other Side of the Wind   \n",
       "3  tt0069204                  Sabse Bada Sukh             Sabse Bada Sukh   \n",
       "4  tt0100275         The Wandering Soap Opera       La Telenovela Errante   \n",
       "\n",
       "   start_year  runtime_minutes                genres  \\\n",
       "0        2013            175.0    Action,Crime,Drama   \n",
       "1        2019            114.0       Biography,Drama   \n",
       "2        2018            122.0                 Drama   \n",
       "3        2018              NaN          Comedy,Drama   \n",
       "4        2017             80.0  Comedy,Drama,Fantasy   \n",
       "\n",
       "              original_title_year                   primary_title_year  \\\n",
       "0                   Sunghursh2013                        Sunghursh2013   \n",
       "1             Ashad Ka Ek Din2019  One Day Before the Rainy Season2019   \n",
       "2  The Other Side of the Wind2018       The Other Side of the Wind2018   \n",
       "3             Sabse Bada Sukh2018                  Sabse Bada Sukh2018   \n",
       "4       La Telenovela Errante2017         The Wandering Soap Opera2017   \n",
       "\n",
       "  tconstOthers                primary_titleOthers  ... Comedy Thriller  \\\n",
       "0  [tt0063540]                        [Sunghursh]  ...      0        0   \n",
       "1  [tt0066787]  [One Day Before the Rainy Season]  ...      0        0   \n",
       "2  [tt0069049]       [The Other Side of the Wind]  ...      0        0   \n",
       "3  [tt0069204]                  [Sabse Bada Sukh]  ...      1        0   \n",
       "4  [tt0100275]         [The Wandering Soap Opera]  ...      1        0   \n",
       "\n",
       "  Animation Short Sport Horror  Drama  Family  averagerating  numvotes  \n",
       "0         0     0     0      0      1       0            7.0        77  \n",
       "1         0     0     0      0      1       0            7.2        43  \n",
       "2         0     0     0      0      1       0            6.9      4517  \n",
       "3         0     0     0      0      1       0            6.1        13  \n",
       "4         0     0     0      0      1       0            6.5       119  \n",
       "\n",
       "[5 rows x 46 columns]"
      ]
     },
     "execution_count": 14,
     "metadata": {},
     "output_type": "execute_result"
    }
   ],
   "source": [
    "imdb_title_ratings = pd.merge(imdb_title_basics_clean, imdb_title_ratings, how = 'inner', on = 'tconst')\n",
    "imdb_title_ratings.head()"
   ]
  },
  {
   "cell_type": "markdown",
   "metadata": {},
   "source": [
    "Merging the newly merged dataframes."
   ]
  },
  {
   "cell_type": "code",
   "execution_count": 15,
   "metadata": {
    "ExecuteTime": {
     "end_time": "2020-02-09T16:36:15.023677Z",
     "start_time": "2020-02-09T16:36:12.459695Z"
    }
   },
   "outputs": [],
   "source": [
    "imdb = pd.merge(imdb_crew_principals, imdb_title_ratings, on = 'tconst')"
   ]
  },
  {
   "cell_type": "markdown",
   "metadata": {},
   "source": [
    "# Explore Data"
   ]
  },
  {
   "cell_type": "markdown",
   "metadata": {},
   "source": [
    "## Genre and Rating"
   ]
  },
  {
   "cell_type": "markdown",
   "metadata": {},
   "source": [
    "### Which Genres have Higher Ratings?\n",
    "\n",
    "Since some movies have more than one genre associated with them, I'll apply the rating to both genres. For example, if a Action/Comedy movie has a rating of 9, both action and comedy will receive 9. So the rating will be 'double counted' for any calculations that involve either genre."
   ]
  },
  {
   "cell_type": "code",
   "execution_count": 34,
   "metadata": {
    "ExecuteTime": {
     "end_time": "2020-02-09T16:55:43.781012Z",
     "start_time": "2020-02-09T16:55:40.197621Z"
    }
   },
   "outputs": [],
   "source": [
    "# Create the appropriate dataframe\n",
    "columnList = genres+['averagerating']\n",
    "genreRatings = imdb.loc[:,columnList]\n",
    "\n",
    "for genre in genres:\n",
    "    genreRatings[genre] *= genreRatings['averagerating']\n",
    "genreRatings.drop(columns=['averagerating'], inplace=True)\n",
    "\n",
    "# Melt dataframe\n",
    "genreRatings = pd.melt(genreRatings, var_name='Genre', value_name='Rating')\n",
    "# Filter out any 0's\n",
    "genreRatings = genreRatings.loc[genreRatings['Rating']!=0]"
   ]
  },
  {
   "cell_type": "code",
   "execution_count": 35,
   "metadata": {
    "ExecuteTime": {
     "end_time": "2020-02-09T16:55:47.199866Z",
     "start_time": "2020-02-09T16:55:45.419593Z"
    }
   },
   "outputs": [
    {
     "data": {
      "image/png": "[encoded data removed]",
      "text/plain": [
       "<Figure size 1440x720 with 1 Axes>"
      ]
     },
     "metadata": {},
     "output_type": "display_data"
    }
   ],
   "source": [
    "# Create ordering for boxplot\n",
    "my_order = genreRatings.groupby(\"Genre\")[\"Rating\"].agg('median').sort_values(ascending=False).index\n",
    "\n",
    "plt.figure(figsize = (20, 10))\n",
    "sns.set(style=\"whitegrid\", palette=\"pastel\", color_codes=True)\n",
    "sns.boxplot(x='Rating', y ='Genre', data = genreRatings, order = my_order);\n",
    "plt.xticks(fontsize = 16, rotation=0);\n",
    "plt.yticks(fontsize = 16)\n",
    "\n",
    "for ax in plt.gcf().axes:\n",
    "    ax.get_xlabel()\n",
    "    ax.set_ylabel('')\n",
    "    ax.set_xlabel('')\n",
    "    ax.set_title('Average Rating by Genre', fontsize=20)\n"
   ]
  },
  {
   "cell_type": "markdown",
   "metadata": {},
   "source": [
    "### Do Movies with Multiple Genres Have Higher Rating?"
   ]
  },
  {
   "cell_type": "code",
   "execution_count": null,
   "metadata": {},
   "outputs": [],
   "source": []
  }
 ],
 "metadata": {
  "kernelspec": {
   "display_name": "Python 3",
   "language": "python",
   "name": "python3"
  },
  "language_info": {
   "codemirror_mode": {
    "name": "ipython",
    "version": 3
   },
   "file_extension": ".py",
   "mimetype": "text/x-python",
   "name": "python",
   "nbconvert_exporter": "python",
   "pygments_lexer": "ipython3",
   "version": "3.7.3"
  },
  "notify_time": "5",
  "toc": {
   "base_numbering": 1,
   "nav_menu": {},
   "number_sections": true,
   "sideBar": true,
   "skip_h1_title": false,
   "title_cell": "Table of Contents",
   "title_sidebar": "Contents",
   "toc_cell": false,
   "toc_position": {},
   "toc_section_display": true,
   "toc_window_display": true
  },
  "varInspector": {
   "cols": {
    "lenName": 16,
    "lenType": 16,
    "lenVar": 40
   },
   "kernels_config": {
    "python": {
     "delete_cmd_postfix": "",
     "delete_cmd_prefix": "del ",
     "library": "var_list.py",
     "varRefreshCmd": "print(var_dic_list())"
    },
    "r": {
     "delete_cmd_postfix": ") ",
     "delete_cmd_prefix": "rm(",
     "library": "var_list.r",
     "varRefreshCmd": "cat(var_dic_list()) "
    }
   },
   "types_to_exclude": [
    "module",
    "function",
    "builtin_function_or_method",
    "instance",
    "_Feature"
   ],
   "window_display": false
  }
 },
 "nbformat": 4,
 "nbformat_minor": 2
}
